{
 "cells": [
  {
   "cell_type": "code",
   "execution_count": 1,
   "metadata": {},
   "outputs": [],
   "source": [
    "import numpy as np\n",
    "import pandas as pd"
   ]
  },
  {
   "cell_type": "code",
   "execution_count": 2,
   "metadata": {},
   "outputs": [
    {
     "data": {
      "text/html": [
       "<div>\n",
       "<style scoped>\n",
       "    .dataframe tbody tr th:only-of-type {\n",
       "        vertical-align: middle;\n",
       "    }\n",
       "\n",
       "    .dataframe tbody tr th {\n",
       "        vertical-align: top;\n",
       "    }\n",
       "\n",
       "    .dataframe thead th {\n",
       "        text-align: right;\n",
       "    }\n",
       "</style>\n",
       "<table border=\"1\" class=\"dataframe\">\n",
       "  <thead>\n",
       "    <tr style=\"text-align: right;\">\n",
       "      <th></th>\n",
       "      <th>ID</th>\n",
       "      <th>TARGET</th>\n",
       "      <th>TEXT</th>\n",
       "      <th>STANCE</th>\n",
       "    </tr>\n",
       "  </thead>\n",
       "  <tbody>\n",
       "    <tr>\n",
       "      <th>0</th>\n",
       "      <td>1</td>\n",
       "      <td>IphoneSE</td>\n",
       "      <td>3月31日，苹果iPhone SE正式开卖，然而这款小屏新机并未出现人们预想的疯抢局面。根据...</td>\n",
       "      <td>NONE</td>\n",
       "    </tr>\n",
       "    <tr>\n",
       "      <th>1</th>\n",
       "      <td>2</td>\n",
       "      <td>IphoneSE</td>\n",
       "      <td>当时看到中国预定340万挺不相信，毕竟 6s ／ 6s Plus 全球首周末1300万。今天...</td>\n",
       "      <td>FAVOR</td>\n",
       "    </tr>\n",
       "    <tr>\n",
       "      <th>2</th>\n",
       "      <td>3</td>\n",
       "      <td>IphoneSE</td>\n",
       "      <td>Phone SE，价格感人，但是看这外形，又可以拿着5s出去装逼了。</td>\n",
       "      <td>AGAINST</td>\n",
       "    </tr>\n",
       "    <tr>\n",
       "      <th>3</th>\n",
       "      <td>4</td>\n",
       "      <td>IphoneSE</td>\n",
       "      <td>iPhone SE官网已经要2-3周发货了，也真是一件神奇的事情……</td>\n",
       "      <td>AGAINST</td>\n",
       "    </tr>\n",
       "    <tr>\n",
       "      <th>4</th>\n",
       "      <td>5</td>\n",
       "      <td>IphoneSE</td>\n",
       "      <td>iPhone SE良心价的原因之一：内存只1GB？：如果真的这样，不知道会浇灭多少人马上掏钱...</td>\n",
       "      <td>AGAINST</td>\n",
       "    </tr>\n",
       "  </tbody>\n",
       "</table>\n",
       "</div>"
      ],
      "text/plain": [
       "   ID    TARGET                                               TEXT   STANCE\n",
       "0   1  IphoneSE  3月31日，苹果iPhone SE正式开卖，然而这款小屏新机并未出现人们预想的疯抢局面。根据...     NONE\n",
       "1   2  IphoneSE  当时看到中国预定340万挺不相信，毕竟 6s ／ 6s Plus 全球首周末1300万。今天...    FAVOR\n",
       "2   3  IphoneSE                 Phone SE，价格感人，但是看这外形，又可以拿着5s出去装逼了。  AGAINST\n",
       "3   4  IphoneSE                 iPhone SE官网已经要2-3周发货了，也真是一件神奇的事情……  AGAINST\n",
       "4   5  IphoneSE  iPhone SE良心价的原因之一：内存只1GB？：如果真的这样，不知道会浇灭多少人马上掏钱...  AGAINST"
      ]
     },
     "execution_count": 2,
     "metadata": {},
     "output_type": "execute_result"
    }
   ],
   "source": [
    "df = pd.read_csv('../data/evasampledata4-TaskAA.txt', sep='\\t')\n",
    "df.head()"
   ]
  },
  {
   "cell_type": "code",
   "execution_count": 3,
   "metadata": {},
   "outputs": [
    {
     "name": "stdout",
     "output_type": "stream",
     "text": [
      "311\n"
     ]
    }
   ],
   "source": [
    "text = df.TEXT.tolist()\n",
    "max_len = 0\n",
    "df_len_list = []\n",
    "for i in range(len(text)):\n",
    "#     text[i] = text[i].replace(' ', '')\n",
    "    max_len = max(max_len, len(text[i]))\n",
    "    df_len_list.append(len(text[i]))\n",
    "print(max_len)"
   ]
  },
  {
   "cell_type": "code",
   "execution_count": 27,
   "metadata": {},
   "outputs": [
    {
     "data": {
      "text/html": [
       "<div>\n",
       "<style scoped>\n",
       "    .dataframe tbody tr th:only-of-type {\n",
       "        vertical-align: middle;\n",
       "    }\n",
       "\n",
       "    .dataframe tbody tr th {\n",
       "        vertical-align: top;\n",
       "    }\n",
       "\n",
       "    .dataframe thead th {\n",
       "        text-align: right;\n",
       "    }\n",
       "</style>\n",
       "<table border=\"1\" class=\"dataframe\">\n",
       "  <thead>\n",
       "    <tr style=\"text-align: right;\">\n",
       "      <th></th>\n",
       "      <th>ID</th>\n",
       "      <th>TARGET</th>\n",
       "      <th>TEXT</th>\n",
       "      <th>STANCE</th>\n",
       "    </tr>\n",
       "  </thead>\n",
       "  <tbody>\n",
       "  </tbody>\n",
       "</table>\n",
       "</div>"
      ],
      "text/plain": [
       "Empty DataFrame\n",
       "Columns: [ID, TARGET, TEXT, STANCE]\n",
       "Index: []"
      ]
     },
     "execution_count": 27,
     "metadata": {},
     "output_type": "execute_result"
    }
   ],
   "source": [
    "df[df['TEXT'] == '']"
   ]
  },
  {
   "cell_type": "code",
   "execution_count": 4,
   "metadata": {},
   "outputs": [
    {
     "data": {
      "text/plain": [
       "155"
      ]
     },
     "execution_count": 4,
     "metadata": {},
     "output_type": "execute_result"
    }
   ],
   "source": [
    "sorted_len = sorted(df_len_list)\n",
    "sorted_len[int(len(sorted_len)*0.99)]"
   ]
  },
  {
   "cell_type": "code",
   "execution_count": 29,
   "metadata": {},
   "outputs": [],
   "source": [
    "df = df.sample(frac=1).reset_index(drop=True)\n",
    "# x_train = df[]\n",
    "test_sample_index = -1 * int(0.2 * float(df.shape[0]))\n",
    "# 划分训练集和测试集\n",
    "# x_train, x_test = x_train[:test_sample_index], x_train[test_sample_index:]\n",
    "# y_train, y_test = y_train[:test_sample_index], y_train[test_sample_index:]\n",
    "train, test = df[:test_sample_index], df[test_sample_index:]"
   ]
  },
  {
   "cell_type": "code",
   "execution_count": 7,
   "metadata": {},
   "outputs": [],
   "source": [
    "train_list = []\n",
    "test_list = []\n",
    "all_list = df.to_dict(orient='records')"
   ]
  },
  {
   "cell_type": "code",
   "execution_count": 26,
   "metadata": {},
   "outputs": [
    {
     "name": "stdout",
     "output_type": "stream",
     "text": [
      "{\"TARGET\": \"\\u5f00\\u653e\\u4e8c\\u80ce\", \"TEXT\": \"\\u201c\\u6628\\u5929\\u548c\\u5b87\\u5b87\\u8bf4\\u597d\\u4e45\\u6ca1\\u53d1\\u5fae\\u535a\\u5566\\uff0c\\u7136\\u540e\\u8fd9\\u4e2a\\u803f\\u76f4boy\\u8f7b\\u8f7b\\u8bf4\\u4e86\\uff1a\\u884c\\u3002\\u4eca\\u5929\\u679c\\u7136\\u5c31\\u53d1\\u5fae\\u535a\\u8fa3\\uff5e\\u8fd8\\u6709\\u5bf9\\u4e8c\\u80ce\\u548c\\u590f\\u5b9d\\u5b9d\\u540d\\u5b57\\u7531\\u6765\\u7684\\u597d\\u5947\\u5b9d\\u5b9d\\uff0c\\u4f60\\u592a\\u53ef\\u7231\\u8fa3\n",
      "{\"TARGET\": \"\\u6df1\\u5733\\u7981\\u6469\\u9650\\u7535\", \"TEXT\": \"\n",
      "{\"TARGET\": \"\\u6625\\u8282\\u653e\\u97ad\\u70ae\", \"TEXT\": \"\n",
      "{\"TARGET\": \"\\u5f00\\u653e\\u4e8c\\u80ce\", \"TEXT\": \"\n",
      "{\"TARGET\": \"\\u6df1\\u5733\\u7981\\u6469\\u9650\\u7535\", \"TEXT\": \"\n",
      "{\"TARGET\": \"\\u6625\\u8282\\u653e\\u97ad\\u70ae\", \"TEXT\": \"\n",
      "{\"TARGET\": \"\\u5f00\\u653e\\u4e8c\\u80ce\", \"TEXT\": \"\n",
      "{\"TARGET\": \"\\u6df1\\u5733\\u7981\\u6469\\u9650\\u7535\", \"TEXT\": \"\\u4f60\\u9a91\\u7535\\u52a8\\u6469\\u6258\\u8f66\\u53ef\\u4ee5\\uff0c\\u4f46\\u662f\\u8bf7\\u4f60\\u9075\\u5b88\\u4ea4\\u901a\\u89c4\\u5219\\uff0c\\u4e0d\\u8be5\\u4f60\\u8d70\\u7684\\u65f6\\u5019\\uff0c\\u8bf7\\u4f60\\u4e0d\\u8981\\u95ef\\u7ea2\\u706f\\uff0c\\u59a8\\u788d\\u6b63\\u5e38\\u884c\\u9a76\\u4ee5\\u53ca\\u8fc7\\u9a6c\\u8def\\u7684\\u4eba\\u3002\n",
      "{\"TARGET\": \"\\u5f00\\u653e\\u4e8c\\u80ce\", \"TEXT\": \"\n",
      "{\"TARGET\": \"\\u6625\\u8282\\u653e\\u97ad\\u70ae\", \"TEXT\": \"\n",
      "{\"TARGET\": \"\\u6df1\\u5733\\u7981\\u6469\\u9650\\u7535\", \"TEXT\": \"\n",
      "{\"TARGET\": \"\\u6df1\\u5733\\u7981\\u6469\\u9650\\u7535\", \"TEXT\": \"\n",
      "{\"TARGET\": \"\\u5f00\\u653e\\u4e8c\\u80ce\", \"TEXT\": \"\\u4e8c\\u80ce\\u5566\\uff01\\u63a8\\u8350\\u4e00\\u4e9b\\u597d\\u7528\\u7684\\u7ed9\\u4f60\\u4eec\\uff01\n",
      "{\"TARGET\": \"\\u6625\\u8282\\u653e\\u97ad\\u70ae\", \"TEXT\": \"\n",
      "{\"TARGET\": \"\\u6df1\\u5733\\u7981\\u6469\\u9650\\u7535\", \"TEXT\": \"\n",
      "{\"TARGET\": \"\\u5f00\\u653e\\u4e8c\\u80ce\", \"TEXT\": \"\n",
      "{\"TARGET\": \"\\u6625\\u8282\\u653e\\u97ad\\u70ae\", \"TEXT\": \"\\u53bb\\u4f60\\u4e2b\\u7684\n",
      "{\"TARGET\": \"\\u6625\\u8282\\u653e\\u97ad\\u70ae\", \"TEXT\": \"\\u3010\\u6ca1\\u653e\\u97ad\\u70ae\\u5c31\\u201c\\u67d3\\u201d\\u4e86 \\u4f60\\u8fd8\\u6562\\u653e\\u5417\\uff1f\\u3011\\u4eca\\u8d77\\u81f3\\u6b63\\u6708\\u5341\\u4e94\\uff0c\\u54c8\\u5c14\\u6ee8\\u5e02\\u53ef\\u9500\\u552e\\u3001\\u71c3\\u653e\\u97ad\\u70ae\\uff0c\\u5982\\u9047\\u7a7a\\u6c14\\u91cd\\u5ea6\\u6c61\\u67d3\\u6a59\\u8272\\u6216\\u7ea2\\u8272\\u9884\\u8b66\\u4e00\\u5f8b\\u7981\\u653e\\u300222\\u65e5\\u54c8\\u5e02\\u7a7a\\u6c14\\u8d28\\u91cf\\u5c31\\u7ed9\\u653e\\u97ad\\u70ae\\u201c\\u6234\\u4e86\\u773c\\u7f69\\u201d\\uff0c12\\u4e2a\\u76d1\\u6d4b\\u70b9\\u7a7a\\u6c14\\u8d28\\u91cf\\u5168\\u90e8\\u4e3a\\u4e2d\\u91cd\\u5ea6\\u6c61\\u67d3\\uff0c\\u5176\\u4e2d6\\u4e2a\\u76d1\\u6d4b\\u70b9AQI\\u6307\\u6570\\u8d85\\u8fc7200\\u3002\n",
      "{\"TARGET\": \"\\u6df1\\u5733\\u7981\\u6469\\u9650\\u7535\", \"TEXT\": \"\n",
      "{\"TARGET\": \"\\u6625\\u8282\\u653e\\u97ad\\u70ae\", \"TEXT\": \"\n",
      "{\"TARGET\": \"\\u6625\\u8282\\u653e\\u97ad\\u70ae\", \"TEXT\": \"\n",
      "{\"TARGET\": \"\\u6625\\u8282\\u653e\\u97ad\\u70ae\", \"TEXT\": \"\n",
      "{\"TARGET\": \"\\u6df1\\u5733\\u7981\\u6469\\u9650\\u7535\", \"TEXT\": \"\n",
      "{\"TARGET\": \"\\u6625\\u8282\\u653e\\u97ad\\u70ae\", \"TEXT\": \"\\u5411 @\\u54c8\\u5c14\\u6ee8\\u73af\\u4fdd \\u63d0\\u95ee:\n",
      "{\"TARGET\": \"\\u6df1\\u5733\\u7981\\u6469\\u9650\\u7535\", \"TEXT\": \"\n",
      "{\"TARGET\": \"\\u5f00\\u653e\\u4e8c\\u80ce\", \"TEXT\": \"\n",
      "{\"TARGET\": \"\\u6df1\\u5733\\u7981\\u6469\\u9650\\u7535\", \"TEXT\": \"\n",
      "{\"TARGET\": \"\\u6625\\u8282\\u653e\\u97ad\\u70ae\", \"TEXT\": \"\n",
      "{\"TARGET\": \"\\u6625\\u8282\\u653e\\u97ad\\u70ae\", \"TEXT\": \"\\u53d7\\u6625\\u8282\\u653e\\u97ad\\u70ae\\u5f71\\u54cd\\uff0c\\u6211\\u80fd\\u9a82\\u8857\\u5417\\uff1f //\n",
      "{\"TARGET\": \"\\u5f00\\u653e\\u4e8c\\u80ce\", \"TEXT\": \"\n",
      "{\"TARGET\": \"\\u5f00\\u653e\\u4e8c\\u80ce\", \"TEXT\": \"\n",
      "{\"TARGET\": \"\\u6df1\\u5733\\u7981\\u6469\\u9650\\u7535\", \"TEXT\": \"\n",
      "{\"TARGET\": \"\\u6df1\\u5733\\u7981\\u6469\\u9650\\u7535\", \"TEXT\": \"\n",
      "{\"TARGET\": \"\\u5f00\\u653e\\u4e8c\\u80ce\", \"TEXT\": \"\\u6211\\u6765\\u6124\\u4e16\\u5ac9\\u4fd7\\u4e00\\u4e0b\\u4e0b\\u554a\\u2267\\ufe4f\\u2266\n",
      "{\"TARGET\": \"\\u6df1\\u5733\\u7981\\u6469\\u9650\\u7535\", \"TEXT\": \"\n",
      "{\"TARGET\": \"\\u6625\\u8282\\u653e\\u97ad\\u70ae\", \"TEXT\": \"\n",
      "{\"TARGET\": \"\\u6df1\\u5733\\u7981\\u6469\\u9650\\u7535\", \"TEXT\": \"\n",
      "{\"TARGET\": \"\\u6625\\u8282\\u653e\\u97ad\\u70ae\", \"TEXT\": \"\n",
      "{\"TARGET\": \"\\u6625\\u8282\\u653e\\u97ad\\u70ae\", \"TEXT\": \"\n",
      "{\"TARGET\": \"\\u6625\\u8282\\u653e\\u97ad\\u70ae\", \"TEXT\": \"\n",
      "{\"TARGET\": \"\\u6625\\u8282\\u653e\\u97ad\\u70ae\", \"TEXT\": \"\n",
      "{\"TARGET\": \"\\u5f00\\u653e\\u4e8c\\u80ce\", \"TEXT\": \"\n",
      "{\"TARGET\": \"\\u5f00\\u653e\\u4e8c\\u80ce\", \"TEXT\": \"\n",
      "{\"TARGET\": \"\\u6625\\u8282\\u653e\\u97ad\\u70ae\", \"TEXT\": \"\n",
      "{\"TARGET\": \"\\u5f00\\u653e\\u4e8c\\u80ce\", \"TEXT\": \"\n",
      "{\"TARGET\": \"\\u6df1\\u5733\\u7981\\u6469\\u9650\\u7535\", \"TEXT\": \"\\u9650\\u7535\\u662f\\u4e3a\\u4e86\\u5b89\\u5168\\uff0c\\u5357\\u4eac\\u8fd9\\u6837\\u7684\\u573a\\u666f\\u6bd4\\u6bd4\\u7686\\u662f\\uff0c\\u66f4\\u6709\\u751a\\u8005\\u5728\\u811a\\u8e0f\\u677f\\u4e0a\\u653e\\u4e2a\\u677f\\u51f3\\u8ba9\\u5c0f\\u5b69\\u5b50\\u5750\\uff0c\\u770b\\u7740\\u90fd\\u63ea\\u5fc3\\u3002\\u4e0d\\u80fd\\u4e3a\\u4e86\\u65b9\\u4fbf\\u800c\\u5ffd\\u89c6\\u5b89\\u5168\\uff0c\\u4e0d\\u80fd\\u56e0\\u4e3a\\u6761\\u4ef6\\u5dee\\u800c\\u653e\\u677e\\u5bf9\\u5b89\\u5168\\u7684\\u8981\\u6c42\\u3002\\u5e0c\\u671b\\u5357\\u4eac\\u4e5f\\u80fd\\u5bf9\\u7535\\u52a8\\u8f66\\u4e25\\u683c\\u5730\\u7ba1\\u7406\\u8d77\\u6765\\u3002@\\u5357\\u4eac\\u4ea4\\u8b66 @Esports\\u6d77\\u6d9b\n",
      "{\"TARGET\": \"\\u6625\\u8282\\u653e\\u97ad\\u70ae\", \"TEXT\": \"\n",
      "{\"TARGET\": \"\\u6df1\\u5733\\u7981\\u6469\\u9650\\u7535\", \"TEXT\": \"\n",
      "{\"TARGET\": \"\\u6625\\u8282\\u653e\\u97ad\\u70ae\", \"TEXT\": \"\n",
      "{\"TARGET\": \"\\u6625\\u8282\\u653e\\u97ad\\u70ae\", \"TEXT\": \"\n",
      "{\"TARGET\": \"\\u5f00\\u653e\\u4e8c\\u80ce\", \"TEXT\": \"\n",
      "{\"TARGET\": \"\\u6625\\u8282\\u653e\\u97ad\\u70ae\", \"TEXT\": \"\\u53d1\\u8868\\u4e86\\u535a\\u6587\\u300a\\u4f20\\u7edf\\u8282\\u65e5\\u300b\\u6211\\u4eec\\u56fd\\u5bb6\\u6709\\u8bb8\\u591a\\u7684\\u4f20\\u7edf\\u8282\\u65e5\\uff0c\\u73b0\\u5728\\u6211\\u5c31\\u7ed9\\u5927\\u5bb6\\u4ecb\\u7ecd\\u51e0\\u4e2a\\u5427\\uff01\n",
      "{\"TARGET\": \"\\u6625\\u8282\\u653e\\u97ad\\u70ae\", \"TEXT\": \"\n",
      "{\"TARGET\": \"\\u5f00\\u653e\\u4e8c\\u80ce\", \"TEXT\": \"\n",
      "{\"TARGET\": \"\\u5f00\\u653e\\u4e8c\\u80ce\", \"TEXT\": \"\n",
      "{\"TARGET\": \"\\u6625\\u8282\\u653e\\u97ad\\u70ae\", \"TEXT\": \"\n",
      "{\"TARGET\": \"\\u5f00\\u653e\\u4e8c\\u80ce\", \"TEXT\": \"\\u56fd\\u5bb6\\u5bf9\\u4e8e\\u751f\\u80b2\\u653f\\u7b56\\uff0c\\u4e3a\\u4ec0\\u4e48\\u4e0d\\u662f\\u6781\\u5de6\\u5c31\\u662f\\u6781\\u53f3\\u5462\\u3002\\u3002\\u3002\\u51e0\\u5e74\\u524d\\u5c31\\u6240\\u6709\\u4eba\\u90fd\\u5728\\u8ba8\\u8bba\\u9752\\u58ee\\u5e74\\u52b3\\u52a8\\u529b\\u9a6c\\u4e0a\\u65ad\\u5c42\\u65f6\\uff0c\\u4ed6\\u4eec\\u65e0\\u52a8\\u4e8e\\u8877\\uff0c\\u7f5a\\u94b1\\u7f5a\\u5f97\\u7a33\\u51c6\\u72e0\\u3002\\u7136\\u540e\\u7a81\\u7136\\u8bf4\\u5f00\\u653e\\u4e8c\\u80ce\\u4e86\\uff0c\\u7a81\\u7136\\u9f13\\u52b1\\u65e9\\u65e9\\u7ed3\\u5a5a\\u65e9\\u65e9\\u751f\\u80b2\\u4e86\\uff0c\\u5c31\\u7acb\\u9a6c\\u8fde\\u5a5a\\u5047\\u90fd\\u6ca1\\u4e86\\uff0c\\u4eff\\u4f5b\\u51b3\\u7b56\\u8005\\u662f\\u4e00\\u591c\\u4e2d\\u7a81\\u7136\\u9192\\u609f\\u8fc7\\u6765\\u7684\\u3002\n",
      "{\"TARGET\": \"\\u6625\\u8282\\u653e\\u97ad\\u70ae\", \"TEXT\": \"\\u3010\\u6c88\\u9633\\u4e07\\u79d1\\u4e1a\\u4e3b\\u71c3\\u653e\\u4e07\\u5143\\u70df\\u82b1\\u201c\\u7834\\u4e94\\u201d\\u3011\\u7f51\\u53cb\\u7206\\u6599\\uff0c\\u5927\\u5e74\\u521d\\u4e94\\u665a\\uff0c\\u4e8e\\u6d2a\\u533a\\u9999\\u7089\\u5c71\\u8def\\uff0c\\u4e07\\u79d1\\u56db\\u5b63\\u82b1\\u57ce\\u67d0\\u4e1a\\u4e3b\\u71c3\\u653e\\u70df\\u82b1\\u201c\\u7834\\u4e94\\u201d\\uff0c\\u5927\\u5730\\u7ea2\\u6446\\u4e86\\u51e0\\u5341\\u7c73\\uff0c\\u81f3\\u5c1120\\u7bb1\\u70df\\u82b1\\u4e00\\u5b57\\u6392\\u5f00\\uff0c\\u71c3\\u653e\\u65f6\\u73b0\\u573a\\u706b\\u5149\\u51b2\\u5929\\u5982\\u540c\\u6218\\u573a\\uff0c\\u4e00\\u7247\\u785d\\u70df\\u5f25\\u6f2b\\u3002\\u636e\\u4f30\\u8ba1\\uff0c\\u8fd9\\u4e9b\\u70df\\u82b1\\u603b\\u4ef7\\u6216\\u8d85\\u4e07\\u5143\\u3002\\u8fd9\\u79cd\\u571f\\u8c6a\\u884c\\u4e3a\\uff0c\\u4f60\\u600e\\u4e48\\u770b\\uff1f\n",
      "{\"TARGET\": \"\\u6625\\u8282\\u653e\\u97ad\\u70ae\", \"TEXT\": \"\n",
      "{\"TARGET\": \"\\u6df1\\u5733\\u7981\\u6469\\u9650\\u7535\", \"TEXT\": \"\n",
      "{\"TARGET\": \"\\u5f00\\u653e\\u4e8c\\u80ce\", \"TEXT\": \"\n",
      "{\"TARGET\": \"\\u6df1\\u5733\\u7981\\u6469\\u9650\\u7535\", \"TEXT\": \"\n",
      "{\"TARGET\": \"\\u6625\\u8282\\u653e\\u97ad\\u70ae\", \"TEXT\": \"\n",
      "{\"TARGET\": \"\\u6df1\\u5733\\u7981\\u6469\\u9650\\u7535\", \"TEXT\": \"\n",
      "{\"TARGET\": \"\\u6625\\u8282\\u653e\\u97ad\\u70ae\", \"TEXT\": \"\n",
      "{\"TARGET\": \"\\u6df1\\u5733\\u7981\\u6469\\u9650\\u7535\", \"TEXT\": \"\n",
      "{\"TARGET\": \"\\u6625\\u8282\\u653e\\u97ad\\u70ae\", \"TEXT\": \"\n",
      "{\"TARGET\": \"\\u6625\\u8282\\u653e\\u97ad\\u70ae\", \"TEXT\": \"\n",
      "{\"TARGET\": \"\\u6625\\u8282\\u653e\\u97ad\\u70ae\", \"TEXT\": \"\n",
      "{\"TARGET\": \"\\u6df1\\u5733\\u7981\\u6469\\u9650\\u7535\", \"TEXT\": \"\n",
      "{\"TARGET\": \"\\u6df1\\u5733\\u7981\\u6469\\u9650\\u7535\", \"TEXT\": \"\n",
      "{\"TARGET\": \"\\u5f00\\u653e\\u4e8c\\u80ce\", \"TEXT\": \"\n",
      "{\"TARGET\": \"\\u5f00\\u653e\\u4e8c\\u80ce\", \"TEXT\": \"\n",
      "{\"TARGET\": \"\\u6625\\u8282\\u653e\\u97ad\\u70ae\", \"TEXT\": \"\n",
      "{\"TARGET\": \"\\u5f00\\u653e\\u4e8c\\u80ce\", \"TEXT\": \"\n",
      "{\"TARGET\": \"\\u6df1\\u5733\\u7981\\u6469\\u9650\\u7535\", \"TEXT\": \"\n",
      "{\"TARGET\": \"\\u6625\\u8282\\u653e\\u97ad\\u70ae\", \"TEXT\": \"\n",
      "{\"TARGET\": \"\\u6625\\u8282\\u653e\\u97ad\\u70ae\", \"TEXT\": \"\n",
      "{\"TARGET\": \"\\u5f00\\u653e\\u4e8c\\u80ce\", \"TEXT\": \"\n",
      "{\"TARGET\": \"\\u5f00\\u653e\\u4e8c\\u80ce\", \"TEXT\": \"\\u7ee7\\u56fd\\u5bb6\\u5f00\\u653e\\u4e8c\\u80ce\\u540e\\uff0c\\u53c8\\u53d6\\u6d88\\u665a\\u5a5a\\u5047\\u3002\\u90a3\\u4e48\\u63a5\\u4e0b\\u6765\\u4f1a\\u4e0d\\u4f1a\\u8d85\\u8fc725\\u5c81\\u8fd8\\u4e0d\\u7ed3\\u5a5a\\u7684\\u5c31\\u8be5\\u6536\\u7a0e\\u4e86\\uff1f\\u54e6\\uff0c\\u8fd8\\u8981\\u628a\\u5355\\u8eab\\u72d7\\u7ed1\\u5728\\u803b\\u8fb1\\u67f1\\u4e0a\\u6cfc\\u8089\\u6842\\u7c89\\uff0c\\u4e0a\\u534a\\u5e74\\u6cfc\\u4e00\\u6b21\\uff0c\\u4e0b\\u534a\\u5e74\\u6cfc\\u4e00\\u6b21\\u3002\\u6700\\u540e\\u8fd8\\u4e0d\\u7ed3\\u5a5a\\u7684\\u5f3a\\u884c\\u914d\\u5bf9\\uff01\\uff08\\u5149\\u60f3\\u60f3\\u5c31\\u597d\\u53ef\\u6015\\uff09\n",
      "{\"TARGET\": \"\\u6625\\u8282\\u653e\\u97ad\\u70ae\", \"TEXT\": \"\n",
      "{\"TARGET\": \"\\u6625\\u8282\\u653e\\u97ad\\u70ae\", \"TEXT\": \"\n",
      "{\"TARGET\": \"\\u6df1\\u5733\\u7981\\u6469\\u9650\\u7535\", \"TEXT\": \"\n",
      "{\"TARGET\": \"\\u5f00\\u653e\\u4e8c\\u80ce\", \"TEXT\": \"\\u3010\\u6000\\u4e8c\\u80ce\\u503c\\u5f97\\u5e86\\u8d3a\\u3011\n",
      "{\"TARGET\": \"\\u5f00\\u653e\\u4e8c\\u80ce\", \"TEXT\": \"\\u4eca\\u665a\\u624b\\u673a\\u4e0d\\u884c\\uff01\\u5927\\u59da\\u5510\\u5ae3\\u7b54\\u5e94\\u6211\\u6211\\u4e00\\u5b9a\\u8981\\u628a\\u4f60\\u4eec\\u62cd\\u7f8e\\uff01\\uff01\\u70b9\\u8d5e\\u8bc4\\u8bba\\u591f1000\\u53d1\\u674e\\u6668\\u5927\\u59da\\u5510\\u5ae3\\u738b\\u4e00\\u535a\\u7f8e\\u7167\n",
      "{\"TARGET\": \"\\u6625\\u8282\\u653e\\u97ad\\u70ae\", \"TEXT\": \"\n",
      "{\"TARGET\": \"\\u6df1\\u5733\\u7981\\u6469\\u9650\\u7535\", \"TEXT\": \"\n",
      "{\"TARGET\": \"\\u6df1\\u5733\\u7981\\u6469\\u9650\\u7535\", \"TEXT\": \"\n",
      "{\"TARGET\": \"\\u6625\\u8282\\u653e\\u97ad\\u70ae\", \"TEXT\": \"\n",
      "{\"TARGET\": \"\\u6df1\\u5733\\u7981\\u6469\\u9650\\u7535\", \"TEXT\": \"\n",
      "{\"TARGET\": \"\\u5f00\\u653e\\u4e8c\\u80ce\", \"TEXT\": \"\n",
      "{\"TARGET\": \"\\u5f00\\u653e\\u4e8c\\u80ce\", \"TEXT\": \"\\u5bb6\\u4eba\\u50ac\\u6211\\u4e8c\\u80ce\\u4e86\\uff0c\n",
      "{\"TARGET\": \"\\u6625\\u8282\\u653e\\u97ad\\u70ae\", \"TEXT\": \"\n",
      "{\"TARGET\": \"\\u6df1\\u5733\\u7981\\u6469\\u9650\\u7535\", \"TEXT\": \"\n",
      "{\"TARGET\": \"\\u6625\\u8282\\u653e\\u97ad\\u70ae\", \"TEXT\": \"\n",
      "{\"TARGET\": \"\\u6625\\u8282\\u653e\\u97ad\\u70ae\", \"TEXT\": \"\n",
      "{\"TARGET\": \"\\u5f00\\u653e\\u4e8c\\u80ce\", \"TEXT\": \"\n",
      "{\"TARGET\": \"\\u6625\\u8282\\u653e\\u97ad\\u70ae\", \"TEXT\": \"\n",
      "{\"TARGET\": \"\\u6625\\u8282\\u653e\\u97ad\\u70ae\", \"TEXT\": \"\n",
      "{\"TARGET\": \"\\u5f00\\u653e\\u4e8c\\u80ce\", \"TEXT\": \"\n",
      "{\"TARGET\": \"\\u6625\\u8282\\u653e\\u97ad\\u70ae\", \"TEXT\": \"\n",
      "{\"TARGET\": \"\\u6625\\u8282\\u653e\\u97ad\\u70ae\", \"TEXT\": \"\n",
      "{\"TARGET\": \"\\u5f00\\u653e\\u4e8c\\u80ce\", \"TEXT\": \"\n",
      "{\"TARGET\": \"\\u6625\\u8282\\u653e\\u97ad\\u70ae\", \"TEXT\": \"\n",
      "{\"TARGET\": \"\\u5f00\\u653e\\u4e8c\\u80ce\", \"TEXT\": \"\n",
      "{\"TARGET\": \"\\u6625\\u8282\\u653e\\u97ad\\u70ae\", \"TEXT\": \"\\u3010\\u96fe\\u973e\\u5f53\\u524d \\u6625\\u8282\n",
      "{\"TARGET\": \"\\u6625\\u8282\\u653e\\u97ad\\u70ae\", \"TEXT\": \"\n",
      "{\"TARGET\": \"\\u6df1\\u5733\\u7981\\u6469\\u9650\\u7535\", \"TEXT\": \"\n",
      "{\"TARGET\": \"\\u5f00\\u653e\\u4e8c\\u80ce\", \"TEXT\": \"\n",
      "{\"TARGET\": \"\\u6df1\\u5733\\u7981\\u6469\\u9650\\u7535\", \"TEXT\": \"\n",
      "{\"TARGET\": \"\\u5f00\\u653e\\u4e8c\\u80ce\", \"TEXT\": \"\n",
      "{\"TARGET\": \"\\u6df1\\u5733\\u7981\\u6469\\u9650\\u7535\", \"TEXT\": \"\n",
      "{\"TARGET\": \"\\u5f00\\u653e\\u4e8c\\u80ce\", \"TEXT\": \"\n",
      "{\"TARGET\": \"IphoneSE\", \"TEXT\": \"\\u602a\\u4e0d\\u5f97\\u5df2\\u722c\\u697c\\u5c42\\u6ca1\\u6709\\u6570\\u636e\\uff0c\\u539f\\u6765\\u662f\n",
      "{\"TARGET\": \"\\u5f00\\u653e\\u4e8c\\u80ce\", \"TEXT\": \"\n",
      "{\"TARGET\": \"\\u6625\\u8282\\u653e\\u97ad\\u70ae\", \"TEXT\": \"\n",
      "{\"TARGET\": \"\\u6625\\u8282\\u653e\\u97ad\\u70ae\", \"TEXT\": \"\n",
      "{\"TARGET\": \"\\u5f00\\u653e\\u4e8c\\u80ce\", \"TEXT\": \"\\u80d6\\u8fea:\\\"\\u542c\\u8bf4\\u4f60\\u6700\\u8fd1\\u80d6\\u4e86?\\\" \\u5e42:\\\"\\u4f60\\u4e0d\\u77e5\\u9053\\u6700\\u8fd1\\u6211\\u5bf9\\u8fd9\\u4e2a\\u8bdd\\u9898\\u5f88\\u654f\\u611f\\u5417?\\\" \\u8fea:\\\"\\u6211\\u53c8\\u4e0d\\u4ecb\\u610f\\uff0c\\u6bd5\\u7adf\\u4f60\\u662f\\u6211\\u7684\\u5168\\u4e16\\u754c\\u554a\\u3002\\\" \\u5e42:\\\"\\u8fd9\\u548c\\u6211\\u80d6\\u4e86\\u6709\\u4ec0\\u4e48\\u5173\\u7cfb?\\\" \\u8fea:\\\"\\u73b0\\u5728\\u4eba\\u53e3\\u589e\\u957f\\u90a3\\u4e48\\u5feb\\uff0c\\u4e4b\\u524d\\u8fd8\\u5f00\\u653e\\u4e8c\\u80ce\\uff0c\\u6211\\u7684\\u4e16\\u754c\\u91cd\\u70b9\\u5f88\\u5408\\u7406\\u3002\\\" \\u5e42:\\\"\\u90a3\\u4e3a\\u4e86\\u7ed9\\u6211\\u51cf\\u80a5\\uff0c\\u4f60\\u53ef\\u4ee5\\u6eda\\u53bb\\u5916\\u592a\\u7a7a\\u5417?\\\"\n",
      "{\"TARGET\": \"\\u6df1\\u5733\\u7981\\u6469\\u9650\\u7535\", \"TEXT\": \"\n",
      "{\"TARGET\": \"\\u5f00\\u653e\\u4e8c\\u80ce\", \"TEXT\": \"\n",
      "{\"TARGET\": \"\\u6625\\u8282\\u653e\\u97ad\\u70ae\", \"TEXT\": \"\n"
     ]
    }
   ],
   "source": [
    "train_list = []\n",
    "test_list = []\n",
    "all_list = df.to_dict(orient='records')\n",
    "vis = [0] * len(all_list)\n",
    "infile = open('../data/tain939ad6fb3a3abd8e80085930.log', 'r')\n",
    "for line in infile:\n",
    "    line = line.strip()\n",
    "    if 'TARGET' in line and 'TEXT' in line:\n",
    "        print(line)\n",
    "        try:\n",
    "#             tmp = eval(line)\n",
    "#             print\n",
    "            tmp = json.loads(line)\n",
    "        except:\n",
    "#             print(line)\n",
    "#             pass\n",
    "            continue\n",
    "        if tmp in all_list:\n",
    "            vis[all_list.index(tmp)] = 1\n",
    "        test_list.append(tmp)\n",
    "for i in range(len(all_list)):\n",
    "    if not vis[i]:\n",
    "        train_list.append(all_list[i])"
   ]
  },
  {
   "cell_type": "code",
   "execution_count": 25,
   "metadata": {},
   "outputs": [
    {
     "name": "stdout",
     "output_type": "stream",
     "text": [
      "3000\n",
      "479\n"
     ]
    }
   ],
   "source": [
    "print(len(train_list))\n",
    "print(len(test_list))"
   ]
  },
  {
   "cell_type": "code",
   "execution_count": null,
   "metadata": {},
   "outputs": [],
   "source": [
    "train = pd.DataFrame(train_list)\n",
    "test = pd.DataFrame(test_list)"
   ]
  }
 ],
 "metadata": {
  "kernelspec": {
   "display_name": "Python 3",
   "language": "python",
   "name": "python3"
  },
  "language_info": {
   "codemirror_mode": {
    "name": "ipython",
    "version": 3
   },
   "file_extension": ".py",
   "mimetype": "text/x-python",
   "name": "python",
   "nbconvert_exporter": "python",
   "pygments_lexer": "ipython3",
   "version": "3.6.7"
  }
 },
 "nbformat": 4,
 "nbformat_minor": 2
}
