{
 "cells": [
  {
   "cell_type": "code",
   "execution_count": 2,
   "metadata": {},
   "outputs": [],
   "source": [
    "import re\n",
    "import numpy as np\n",
    "import pandas as pd"
   ]
  },
  {
   "cell_type": "code",
   "execution_count": 3,
   "metadata": {},
   "outputs": [
    {
     "data": {
      "text/html": [
       "<div>\n",
       "<style scoped>\n",
       "    .dataframe tbody tr th:only-of-type {\n",
       "        vertical-align: middle;\n",
       "    }\n",
       "\n",
       "    .dataframe tbody tr th {\n",
       "        vertical-align: top;\n",
       "    }\n",
       "\n",
       "    .dataframe thead th {\n",
       "        text-align: right;\n",
       "    }\n",
       "</style>\n",
       "<table border=\"1\" class=\"dataframe\">\n",
       "  <thead>\n",
       "    <tr style=\"text-align: right;\">\n",
       "      <th></th>\n",
       "      <th>Unnamed: 0</th>\n",
       "      <th>count</th>\n",
       "      <th>hate_speech</th>\n",
       "      <th>offensive_language</th>\n",
       "      <th>neither</th>\n",
       "      <th>class</th>\n",
       "      <th>tweet</th>\n",
       "    </tr>\n",
       "  </thead>\n",
       "  <tbody>\n",
       "    <tr>\n",
       "      <th>0</th>\n",
       "      <td>0</td>\n",
       "      <td>3</td>\n",
       "      <td>0</td>\n",
       "      <td>0</td>\n",
       "      <td>3</td>\n",
       "      <td>2</td>\n",
       "      <td>!!! RT @mayasolovely: As a woman you shouldn't...</td>\n",
       "    </tr>\n",
       "    <tr>\n",
       "      <th>1</th>\n",
       "      <td>1</td>\n",
       "      <td>3</td>\n",
       "      <td>0</td>\n",
       "      <td>3</td>\n",
       "      <td>0</td>\n",
       "      <td>1</td>\n",
       "      <td>!!!!! RT @mleew17: boy dats cold...tyga dwn ba...</td>\n",
       "    </tr>\n",
       "    <tr>\n",
       "      <th>2</th>\n",
       "      <td>2</td>\n",
       "      <td>3</td>\n",
       "      <td>0</td>\n",
       "      <td>3</td>\n",
       "      <td>0</td>\n",
       "      <td>1</td>\n",
       "      <td>!!!!!!! RT @UrKindOfBrand Dawg!!!! RT @80sbaby...</td>\n",
       "    </tr>\n",
       "    <tr>\n",
       "      <th>3</th>\n",
       "      <td>3</td>\n",
       "      <td>3</td>\n",
       "      <td>0</td>\n",
       "      <td>2</td>\n",
       "      <td>1</td>\n",
       "      <td>1</td>\n",
       "      <td>!!!!!!!!! RT @C_G_Anderson: @viva_based she lo...</td>\n",
       "    </tr>\n",
       "    <tr>\n",
       "      <th>4</th>\n",
       "      <td>4</td>\n",
       "      <td>6</td>\n",
       "      <td>0</td>\n",
       "      <td>6</td>\n",
       "      <td>0</td>\n",
       "      <td>1</td>\n",
       "      <td>!!!!!!!!!!!!! RT @ShenikaRoberts: The shit you...</td>\n",
       "    </tr>\n",
       "  </tbody>\n",
       "</table>\n",
       "</div>"
      ],
      "text/plain": [
       "   Unnamed: 0  count  hate_speech  offensive_language  neither  class  \\\n",
       "0           0      3            0                   0        3      2   \n",
       "1           1      3            0                   3        0      1   \n",
       "2           2      3            0                   3        0      1   \n",
       "3           3      3            0                   2        1      1   \n",
       "4           4      6            0                   6        0      1   \n",
       "\n",
       "                                               tweet  \n",
       "0  !!! RT @mayasolovely: As a woman you shouldn't...  \n",
       "1  !!!!! RT @mleew17: boy dats cold...tyga dwn ba...  \n",
       "2  !!!!!!! RT @UrKindOfBrand Dawg!!!! RT @80sbaby...  \n",
       "3  !!!!!!!!! RT @C_G_Anderson: @viva_based she lo...  \n",
       "4  !!!!!!!!!!!!! RT @ShenikaRoberts: The shit you...  "
      ]
     },
     "execution_count": 3,
     "metadata": {},
     "output_type": "execute_result"
    }
   ],
   "source": [
    "train = pd.read_csv('../data/labeled_data.csv')\n",
    "train.head()"
   ]
  },
  {
   "cell_type": "code",
   "execution_count": 12,
   "metadata": {},
   "outputs": [
    {
     "name": "stdout",
     "output_type": "stream",
     "text": [
      "['', 'RT', '@mayasolovely:', 'As', 'a', 'woman', 'you', \"shouldn't\", 'complain', 'about', 'cleaning', 'up', 'your', 'house.', '&amp;', 'as', 'a', 'man', 'you', 'should', 'always', 'take', 'the', 'trash', 'out...']\n",
      "['', 'RT', '@ShenikaRoberts:', 'The', 'shit', 'you', 'hear', 'about', 'me', 'might', 'be', 'true', 'or', 'it', 'might', 'be', 'faker', 'than', 'the', 'bitch', 'who', 'told', 'it', 'to', 'ya', '&#57361;']\n",
      "['\"@BeEasyJrizzy:', 'u', 'ever', 'kill', 'a', 'ant', 'on', 'the', 'sidewalk', 'and', 'think', 'damn', 'what', 'if', 'that', 'nigga', 'was', 'on', 'his', 'way', 'to', 'get', 'some', 'pussy\"No', 'bs', 'must', 'b', '&gt;30%chance']\n",
      "['\"Baby', 'I', 'like', 'being', 'on', 'your', 'left', 'side\"', 'no', 'bitch', 'you', \"can't\", 'be', 'there', 'Cuz', 'the', 'street', 'on', 'that', 'side', 'and', 'Twitter', 'said', 'I', \"ain't\", 'real', 'if', 'you', 'do']\n",
      "['\"if', 'i', 'wasnt', 'in', 'a', 'work', 'place', 'id', 'deck', 'you\"', 'aye', 'fucking', 'right,', \"I'd\", 'give', 'you', 'a', 'tyson', '4', 'combo', 'nd', 'end', 'you', 'with', 'an', 'uppercut.', 'Shut', 'the', 'fuck', 'up', 'bitch']\n",
      "['$3', 'bud', 'Lites', 'and', '$4', 'well', 'shots', 'at', 'the', 'bar', 'tn,', 'plus', \"I'm\", 'giving', 'away', 'a', 'trip', 'to', 'Las', 'Vegas.', 'So', 'if', \"you're\", 'not', 'a', 'cunt', 'come', 'visit', 'me', 'at', 'Bourbon', 'St']\n",
      "[\"'\", 'She', 'herd', 'I', 'was', 'a', 'dope', 'boy', ',', 'I', 'herd', 'she', 'was', 'a', 'gold', 'digger', '&#1043359;', ',', 'all', 'I', 'know', 'is', 'she', 'a', 'real', 'bitch', ',', 'so', 'I', 'fuck', 'her', 'like', 'a', 'real', 'niggah', '.']\n",
      "36\n"
     ]
    }
   ],
   "source": [
    "text = train.tweet.tolist()\n",
    "max_len = 0\n",
    "for i in range(len(text)):\n",
    "    r = \"[!]+\"\n",
    "    tmp = re.sub(r, '', text[i])\n",
    "    tmp = tmp.split(' ')\n",
    "    if max_len < len(tmp):\n",
    "        print(tmp)\n",
    "    max_len = max(max_len, len(tmp))\n",
    "print(max_len)"
   ]
  },
  {
   "cell_type": "code",
   "execution_count": 8,
   "metadata": {},
   "outputs": [],
   "source": [
    "import string\n",
    "import nltk \n",
    "from nltk.corpus import stopwords\n",
    "from nltk.stem.porter import PorterStemmer\n",
    "from nltk.stem import WordNetLemmatizer \n",
    "\n",
    "\n",
    "def pre_processing(text):\n",
    "\n",
    "    text = text.lower() # 将所有的单词转换成小写字母\n",
    "\n",
    "    for c in string.punctuation:\n",
    "        text = text.replace(c,\" \")  # 将标点符号转换成空格\n",
    "\n",
    "    wordList = nltk.word_tokenize(text)  # 分词\n",
    "\n",
    "    filtered = [w for w in wordList if w not in stopwords.words('english')] # 删除停顿词\n",
    "\n",
    "    # stem \n",
    "    ps = PorterStemmer()\n",
    "    filtered = [ps.stem(w) for w in filtered]  # 提取词干\n",
    "    wl = WordNetLemmatizer()   \n",
    "    filtered = [wl.lemmatize(w) for w  in filtered]  # 词形还原\n",
    "\n",
    "    return \" \".join(filtered)"
   ]
  },
  {
   "cell_type": "code",
   "execution_count": 31,
   "metadata": {},
   "outputs": [
    {
     "name": "stdout",
     "output_type": "stream",
     "text": [
      "['RT', 'mayasolovely', 'As', 'a', 'woman', 'you', 'shouldnt', 'complain', 'about', 'cleaning', 'up', 'your', 'house', 'amp', 'as', 'a', 'man', 'you', 'should', 'always', 'take', 'the', 'trash', 'out']\n",
      "['BeEasyJrizzy', 'u', 'ever', 'kill', 'a', 'ant', 'on', 'the', 'sidewalk', 'and', 'think', 'damn', 'what', 'if', 'that', 'nigga', 'was', 'on', 'his', 'way', 'to', 'get', 'some', 'pussyNo', 'bs', 'must', 'b', 'gtchance']\n",
      "['Baby', 'I', 'like', 'being', 'on', 'your', 'left', 'side', 'no', 'bitch', 'you', 'cant', 'be', 'there', 'Cuz', 'the', 'street', 'on', 'that', 'side', 'and', 'Twitter', 'said', 'I', 'aint', 'real', 'if', 'you', 'do']\n",
      "['if', 'i', 'wasnt', 'in', 'a', 'work', 'place', 'id', 'deck', 'you', 'aye', 'fucking', 'right', 'Id', 'give', 'you', 'a', 'tyson', 'combo', 'nd', 'end', 'you', 'with', 'an', 'uppercut', 'Shut', 'the', 'fuck', 'up', 'bitch']\n",
      "['MRad', 'You', 'was', 'with', 'the', 'bitch', 'with', 'the', 'fat', 'ass', 'only', 'way', 'to', 'live', 'when', 'u', 'young', 'that', 'shit', 'gonna', 'get', 'old', 'tho', 'and', 'have', 'a', 'lot', 'of', 'dents', 'in', 'it']\n",
      "['Dswizzle', 'bitch', 'im', 'real', 'nigga', 'the', 'fuck', 'u', 'mean', 'weak', 'ass', 'nigga', 'i', 'do', 'me', 'i', 'dont', 'pretend', 'to', 'be', 'someone', 'im', 'not', 'so', 'u', 'can', 'shut', 'that', 'shit', 'up', 'fuk', 'boy']\n",
      "['Oomf', 'a', 'hoe', 'She', 'know', 'she', 'a', 'hoe', 'I', 'know', 'she', 'a', 'hoe', 'she', 'wont', 'claim', 'she', 'a', 'hoe', 'so', 'she', 'say', 'she', 'aint', 'a', 'hoe', 'butWE', 'ALL', 'KNOW', 'YOU', 'A', 'HOE', 'HOE']\n",
      "33\n"
     ]
    }
   ],
   "source": [
    "from string import punctuation\n",
    "text = train.tweet.tolist()\n",
    "max_len = 0\n",
    "for i in range(len(text)):\n",
    "    pattern = re.compile(r'[0-9]|[%s]+' % punctuation)\n",
    "    tmp = re.sub(pattern, '', text[i])\n",
    "    tmp = tmp.split(' ')\n",
    "    new_tmp = []\n",
    "    for word in tmp:\n",
    "        if word != '':\n",
    "            new_tmp.append(word)\n",
    "#     tmp = [word if word for word in tmp]\n",
    "    tmp = new_tmp\n",
    "    if max_len < len(tmp):\n",
    "        print(tmp)\n",
    "    max_len = max(max_len, len(tmp))\n",
    "print(max_len)"
   ]
  },
  {
   "cell_type": "code",
   "execution_count": 32,
   "metadata": {},
   "outputs": [
    {
     "data": {
      "text/plain": [
       "'a=1&b=2'"
      ]
     },
     "execution_count": 32,
     "metadata": {},
     "output_type": "execute_result"
    }
   ],
   "source": [
    "import html\n",
    "html.unescape('a=1&amp;b=2')"
   ]
  },
  {
   "cell_type": "code",
   "execution_count": 34,
   "metadata": {},
   "outputs": [
    {
     "name": "stdout",
     "output_type": "stream",
     "text": [
      "['!!!', 'RT', '@mayasolovely:', 'As', 'a', 'woman', 'you', \"shouldn't\", 'complain', 'about', 'cleaning', 'up', 'your', 'house.', '&', 'as', 'a', 'man', 'you', 'should', 'always', 'take', 'the', 'trash', 'out...']\n",
      "['!!!!!!!!!!!!!', 'RT', '@ShenikaRoberts:', 'The', 'shit', 'you', 'hear', 'about', 'me', 'might', 'be', 'true', 'or', 'it', 'might', 'be', 'faker', 'than', 'the', 'bitch', 'who', 'told', 'it', 'to', 'ya', '\\ue011']\n",
      "['\"@BeEasyJrizzy:', 'u', 'ever', 'kill', 'a', 'ant', 'on', 'the', 'sidewalk', 'and', 'think', 'damn', 'what', 'if', 'that', 'nigga', 'was', 'on', 'his', 'way', 'to', 'get', 'some', 'pussy\"No', 'bs', 'must', 'b', '>30%chance']\n",
      "['\"Baby', 'I', 'like', 'being', 'on', 'your', 'left', 'side\"', 'no', 'bitch', 'you', \"can't\", 'be', 'there', 'Cuz', 'the', 'street', 'on', 'that', 'side', 'and', 'Twitter', 'said', 'I', \"ain't\", 'real', 'if', 'you', 'do']\n",
      "['\"if', 'i', 'wasnt', 'in', 'a', 'work', 'place', 'id', 'deck', 'you\"', 'aye', 'fucking', 'right,', \"I'd\", 'give', 'you', 'a', 'tyson', '4', 'combo', 'nd', 'end', 'you', 'with', 'an', 'uppercut.', 'Shut', 'the', 'fuck', 'up', 'bitch']\n",
      "['$3', 'bud', 'Lites', 'and', '$4', 'well', 'shots', 'at', 'the', 'bar', 'tn,', 'plus', \"I'm\", 'giving', 'away', 'a', 'trip', 'to', 'Las', 'Vegas.', 'So', 'if', \"you're\", 'not', 'a', 'cunt', 'come', 'visit', 'me', 'at', 'Bourbon', 'St']\n",
      "[\"'\", 'She', 'herd', 'I', 'was', 'a', 'dope', 'boy', ',', 'I', 'herd', 'she', 'was', 'a', 'gold', 'digger', '\\U000feb9f', ',', 'all', 'I', 'know', 'is', 'she', 'a', 'real', 'bitch', ',', 'so', 'I', 'fuck', 'her', 'like', 'a', 'real', 'niggah', '.']\n",
      "36\n"
     ]
    }
   ],
   "source": [
    "text = train.tweet.tolist()\n",
    "max_len = 0\n",
    "for i in range(len(text)):\n",
    "    tmp = html.unescape(text[i])\n",
    "    tmp = tmp.split(' ')\n",
    "    if max_len < len(tmp):\n",
    "        print(tmp)\n",
    "    max_len = max(max_len, len(tmp))\n",
    "print(max_len)"
   ]
  },
  {
   "cell_type": "code",
   "execution_count": 15,
   "metadata": {},
   "outputs": [],
   "source": [
    "text = train.tweet.tolist()\n",
    "max_len = 0\n",
    "clean_text = array_cleaner(text)\n",
    "# for i in range(len(text)):\n",
    "#     tmp = pre_processing(text[i])\n",
    "#     tmp = tmp.split(' ')\n",
    "#     if max_len < len(tmp):\n",
    "#         print(tmp)\n",
    "#     max_len = max(max_len, len(tmp))\n",
    "# print(max_len)"
   ]
  },
  {
   "cell_type": "code",
   "execution_count": 19,
   "metadata": {
    "scrolled": true
   },
   "outputs": [
    {
     "name": "stdout",
     "output_type": "stream",
     "text": [
      "['!!!', 'RT', '@mayasolovely:', 'As', 'a', 'woman', 'you', \"shouldn't\", 'complain', 'about', 'cleaning', 'up', 'your', 'house.', '&amp;', 'as', 'a', 'man', 'you', 'should', 'always', 'take', 'the', 'trash', 'out...']\n",
      "['!!!!!!!!!!!!!', 'RT', '@ShenikaRoberts:', 'The', 'shit', 'you', 'hear', 'about', 'me', 'might', 'be', 'true', 'or', 'it', 'might', 'be', 'faker', 'than', 'the', 'bitch', 'who', 'told', 'it', 'to', 'ya', '&#57361;']\n",
      "['\"@BeEasyJrizzy:', 'u', 'ever', 'kill', 'a', 'ant', 'on', 'the', 'sidewalk', 'and', 'think', 'damn', 'what', 'if', 'that', 'nigga', 'was', 'on', 'his', 'way', 'to', 'get', 'some', 'pussy\"No', 'bs', 'must', 'b', '&gt;30%chance']\n",
      "['\"Baby', 'I', 'like', 'being', 'on', 'your', 'left', 'side\"', 'no', 'bitch', 'you', \"can't\", 'be', 'there', 'Cuz', 'the', 'street', 'on', 'that', 'side', 'and', 'Twitter', 'said', 'I', \"ain't\", 'real', 'if', 'you', 'do']\n",
      "['\"if', 'i', 'wasnt', 'in', 'a', 'work', 'place', 'id', 'deck', 'you\"', 'aye', 'fucking', 'right,', \"I'd\", 'give', 'you', 'a', 'tyson', '4', 'combo', 'nd', 'end', 'you', 'with', 'an', 'uppercut.', 'Shut', 'the', 'fuck', 'up', 'bitch']\n",
      "['$3', 'bud', 'Lites', 'and', '$4', 'well', 'shots', 'at', 'the', 'bar', 'tn,', 'plus', \"I'm\", 'giving', 'away', 'a', 'trip', 'to', 'Las', 'Vegas.', 'So', 'if', \"you're\", 'not', 'a', 'cunt', 'come', 'visit', 'me', 'at', 'Bourbon', 'St']\n",
      "[\"'\", 'She', 'herd', 'I', 'was', 'a', 'dope', 'boy', ',', 'I', 'herd', 'she', 'was', 'a', 'gold', 'digger', '&#1043359;', ',', 'all', 'I', 'know', 'is', 'she', 'a', 'real', 'bitch', ',', 'so', 'I', 'fuck', 'her', 'like', 'a', 'real', 'niggah', '.']\n",
      "36\n"
     ]
    }
   ],
   "source": [
    "max_len = 0\n",
    "for i in range(len(text)):\n",
    "    tmp = text[i].split(' ')\n",
    "    if max_len < len(tmp):\n",
    "        print(tmp)\n",
    "    max_len = max(max_len, len(tmp))\n",
    "print(max_len)"
   ]
  }
 ],
 "metadata": {
  "kernelspec": {
   "display_name": "Python 3",
   "language": "python",
   "name": "python3"
  },
  "language_info": {
   "codemirror_mode": {
    "name": "ipython",
    "version": 3
   },
   "file_extension": ".py",
   "mimetype": "text/x-python",
   "name": "python",
   "nbconvert_exporter": "python",
   "pygments_lexer": "ipython3",
   "version": "3.6.7"
  }
 },
 "nbformat": 4,
 "nbformat_minor": 2
}
